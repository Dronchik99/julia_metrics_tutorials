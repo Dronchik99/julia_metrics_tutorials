{
 "cells": [
  {
   "cell_type": "markdown",
   "metadata": {},
   "source": [
    "## Отбор столбцов"
   ]
  },
  {
   "cell_type": "code",
   "execution_count": 52,
   "metadata": {},
   "outputs": [
    {
     "name": "stdout",
     "output_type": "stream",
     "text": [
      "Создаем массив 4x4\n"
     ]
    },
    {
     "data": {
      "text/plain": [
       "4×4 Array{Int64,2}:\n",
       " 1  8  8  7\n",
       " 7  9  2  4\n",
       " 5  6  1  1\n",
       " 2  6  5  9"
      ]
     },
     "execution_count": 52,
     "metadata": {},
     "output_type": "execute_result"
    }
   ],
   "source": [
    "println(\"Создаем массив 4x4\")\n",
    "a = rand(1:10, 4, 4)"
   ]
  },
  {
   "cell_type": "code",
   "execution_count": 53,
   "metadata": {
    "scrolled": true
   },
   "outputs": [
    {
     "name": "stdout",
     "output_type": "stream",
     "text": [
      "Отберем, например, третий столбец:\n"
     ]
    },
    {
     "data": {
      "text/plain": [
       "4-element Array{Int64,1}:\n",
       " 8\n",
       " 2\n",
       " 1\n",
       " 5"
      ]
     },
     "execution_count": 53,
     "metadata": {},
     "output_type": "execute_result"
    }
   ],
   "source": [
    "println(\"Отберем, например, третий столбец:\")\n",
    "a[:, 3]"
   ]
  },
  {
   "cell_type": "code",
   "execution_count": 54,
   "metadata": {},
   "outputs": [
    {
     "name": "stdout",
     "output_type": "stream",
     "text": [
      "Отметим, что подобным образом можно отобрать строчку. Например, выведем четвертую строчку:\n"
     ]
    },
    {
     "data": {
      "text/plain": [
       "4-element Array{Int64,1}:\n",
       " 2\n",
       " 6\n",
       " 5\n",
       " 9"
      ]
     },
     "execution_count": 54,
     "metadata": {},
     "output_type": "execute_result"
    }
   ],
   "source": [
    "println(\"Отметим, что подобным образом можно отобрать строчку. Например, выведем четвертую строчку:\")\n",
    "a[4,:]"
   ]
  },
  {
   "cell_type": "markdown",
   "metadata": {},
   "source": [
    "## Отбор наблюдений\n"
   ]
  },
  {
   "cell_type": "code",
   "execution_count": 55,
   "metadata": {},
   "outputs": [
    {
     "data": {
      "text/plain": [
       "4×4 Array{Int64,2}:\n",
       "  1   4   5  9\n",
       "  2   2  10  5\n",
       " 10   7   9  7\n",
       "  3  10   8  4"
      ]
     },
     "execution_count": 55,
     "metadata": {},
     "output_type": "execute_result"
    }
   ],
   "source": [
    "a = rand(1:10, 4, 4)"
   ]
  },
  {
   "cell_type": "code",
   "execution_count": 56,
   "metadata": {},
   "outputs": [
    {
     "name": "stdout",
     "output_type": "stream",
     "text": [
      "Мы можем отобрать конкретное наблюдение, например, элемент второй строки второго столбца:\n"
     ]
    },
    {
     "data": {
      "text/plain": [
       "2"
      ]
     },
     "execution_count": 56,
     "metadata": {},
     "output_type": "execute_result"
    }
   ],
   "source": [
    "println(\"Мы можем отобрать конкретное наблюдение, например, элемент второй строки второго столбца:\")\n",
    "a[2,2]"
   ]
  },
  {
   "cell_type": "code",
   "execution_count": 57,
   "metadata": {},
   "outputs": [
    {
     "name": "stdout",
     "output_type": "stream",
     "text": [
      "Можем вывести максимальное число:\n"
     ]
    },
    {
     "data": {
      "text/plain": [
       "10"
      ]
     },
     "execution_count": 57,
     "metadata": {},
     "output_type": "execute_result"
    }
   ],
   "source": [
    "println(\"Можем вывести максимальное число:\")\n",
    "maximum(a)"
   ]
  },
  {
   "cell_type": "code",
   "execution_count": 58,
   "metadata": {},
   "outputs": [
    {
     "name": "stdout",
     "output_type": "stream",
     "text": [
      "Или минимальное число:\n"
     ]
    },
    {
     "data": {
      "text/plain": [
       "1"
      ]
     },
     "execution_count": 58,
     "metadata": {},
     "output_type": "execute_result"
    }
   ],
   "source": [
    "println(\"Или минимальное число:\")\n",
    "minimum(a)"
   ]
  },
  {
   "cell_type": "code",
   "execution_count": 59,
   "metadata": {},
   "outputs": [
    {
     "name": "stdout",
     "output_type": "stream",
     "text": [
      "А можем также отобрать несколько наблюдений, например, 3 и 4 элемент второй строки\n"
     ]
    },
    {
     "data": {
      "text/plain": [
       "2-element Array{Int64,1}:\n",
       " 10\n",
       "  5"
      ]
     },
     "execution_count": 59,
     "metadata": {},
     "output_type": "execute_result"
    }
   ],
   "source": [
    "println(\"А можем также отобрать несколько наблюдений, например, 3 и 4 элемент второй строки\")\n",
    "a[2,3:4]"
   ]
  },
  {
   "cell_type": "code",
   "execution_count": 60,
   "metadata": {},
   "outputs": [
    {
     "name": "stdout",
     "output_type": "stream",
     "text": [
      "Отбирать значения можно также из нескольких массивов. Например, мы можем скомбенировать элементы нескольких массивов:\n"
     ]
    },
    {
     "data": {
      "text/plain": [
       "6-element Array{Int64,1}:\n",
       " 2\n",
       " 5\n",
       " 6\n",
       " 7\n",
       " 1\n",
       " 9"
      ]
     },
     "execution_count": 60,
     "metadata": {},
     "output_type": "execute_result"
    }
   ],
   "source": [
    "println(\"Отбирать значения можно также из нескольких массивов. Например, мы можем скомбенировать элементы нескольких массивов:\")\n",
    "b=[2, 5]\n",
    "c=[5, 6, 7]\n",
    "d=[1,5,6,9]\n",
    "union(b,c,d)"
   ]
  },
  {
   "cell_type": "code",
   "execution_count": 61,
   "metadata": {},
   "outputs": [
    {
     "name": "stdout",
     "output_type": "stream",
     "text": [
      "Найти совпадающие элементы:\n"
     ]
    },
    {
     "data": {
      "text/plain": [
       "1-element Array{Int64,1}:\n",
       " 5"
      ]
     },
     "execution_count": 61,
     "metadata": {},
     "output_type": "execute_result"
    }
   ],
   "source": [
    "println(\"Найти совпадающие элементы:\")\n",
    "intersect(b,c,d)"
   ]
  },
  {
   "cell_type": "code",
   "execution_count": 62,
   "metadata": {},
   "outputs": [
    {
     "name": "stdout",
     "output_type": "stream",
     "text": [
      "Или отобрать те наблюдения, которые есть в первом массиве, но отсутствуют в остальных:\n"
     ]
    },
    {
     "data": {
      "text/plain": [
       "2-element Array{Int64,1}:\n",
       " 1\n",
       " 9"
      ]
     },
     "execution_count": 62,
     "metadata": {},
     "output_type": "execute_result"
    }
   ],
   "source": [
    "println(\"Или отобрать те наблюдения, которые есть в первом массиве, но отсутствуют в остальных:\")\n",
    "setdiff(d,c,b)"
   ]
  },
  {
   "cell_type": "code",
   "execution_count": 63,
   "metadata": {},
   "outputs": [
    {
     "name": "stdout",
     "output_type": "stream",
     "text": [
      "Можно отобрать наблюдения, удовлетворяющие какому-то условию, например, не равны 2:\n",
      "1 4 5 9 10 5 10 7 9 7 3 10 8 4 "
     ]
    }
   ],
   "source": [
    "println(\"Можно отобрать наблюдения, удовлетворяющие какому-то условию, например, не равны 2:\")\n",
    "for i = 1:4, j = 1:4\n",
    "    if a[i,j] !== 2\n",
    "        print(a[i,j], \" \")\n",
    "    end\n",
    "end"
   ]
  },
  {
   "cell_type": "markdown",
   "metadata": {},
   "source": [
    "## Создание новой переменной"
   ]
  },
  {
   "cell_type": "code",
   "execution_count": 64,
   "metadata": {},
   "outputs": [
    {
     "name": "stdout",
     "output_type": "stream",
     "text": [
      "Новая переменная создается различными видами присваивания:\n",
      "1 2 9\n"
     ]
    }
   ],
   "source": [
    "println(\"Новая переменная создается различными видами присваивания:\")\n",
    "f = 1\n",
    "f\n",
    "s = (a=1; 2 * a)\n",
    "s\n",
    "p = begin \n",
    "    q = 3\n",
    "    3 * q\n",
    "end\n",
    "println(f, \" \", s, \" \", p)"
   ]
  },
  {
   "cell_type": "code",
   "execution_count": 65,
   "metadata": {},
   "outputs": [
    {
     "name": "stdout",
     "output_type": "stream",
     "text": [
      "Также можно сгенирировать случайное число из диапазона [0:1]:\n"
     ]
    },
    {
     "data": {
      "text/plain": [
       "0.9470811232927674"
      ]
     },
     "execution_count": 65,
     "metadata": {},
     "output_type": "execute_result"
    }
   ],
   "source": [
    "println(\"Также можно сгенирировать случайное число из диапазона [0:1]:\")\n",
    "rand()"
   ]
  },
  {
   "cell_type": "code",
   "execution_count": 66,
   "metadata": {},
   "outputs": [
    {
     "name": "stdout",
     "output_type": "stream",
     "text": [
      "Случайное целое число из диапазона [x:y]:\n"
     ]
    },
    {
     "data": {
      "text/plain": [
       "6"
      ]
     },
     "execution_count": 66,
     "metadata": {},
     "output_type": "execute_result"
    }
   ],
   "source": [
    "println(\"Случайное целое число из диапазона [x:y]:\")\n",
    "x = 2\n",
    "y = 22\n",
    "rand(x:y)"
   ]
  },
  {
   "cell_type": "code",
   "execution_count": 67,
   "metadata": {},
   "outputs": [
    {
     "name": "stdout",
     "output_type": "stream",
     "text": [
      "Случайное число из диапазона [z:w] с точностью до первого знака:\n"
     ]
    },
    {
     "data": {
      "text/plain": [
       "19.9"
      ]
     },
     "execution_count": 67,
     "metadata": {},
     "output_type": "execute_result"
    }
   ],
   "source": [
    "println(\"Случайное число из диапазона [z:w] с точностью до первого знака:\")\n",
    "z = 3\n",
    "w = 49\n",
    "rand(z:0.1:49)"
   ]
  },
  {
   "cell_type": "markdown",
   "metadata": {},
   "source": [
    "## Преобразование переменных (возьмем логарифм)"
   ]
  },
  {
   "cell_type": "code",
   "execution_count": 68,
   "metadata": {},
   "outputs": [
    {
     "name": "stdout",
     "output_type": "stream",
     "text": [
      "Расмотрим преобразование переменных на примере взятие логарифма\n",
      "Натуральный логарифм:\n"
     ]
    }
   ],
   "source": [
    "println(\"Расмотрим преобразование переменных на примере взятие логарифма\")\n",
    "println(\"Натуральный логарифм:\")"
   ]
  },
  {
   "cell_type": "code",
   "execution_count": 69,
   "metadata": {},
   "outputs": [
    {
     "data": {
      "text/plain": [
       "h (generic function with 1 method)"
      ]
     },
     "execution_count": 69,
     "metadata": {},
     "output_type": "execute_result"
    }
   ],
   "source": [
    "function h(x,y,z)\n",
    "    log(x), log(y), log(z)\n",
    "end"
   ]
  },
  {
   "cell_type": "code",
   "execution_count": 70,
   "metadata": {},
   "outputs": [
    {
     "data": {
      "text/plain": [
       "(1.6094379124341003, 1.791759469228055, 1.9459101490553132)"
      ]
     },
     "execution_count": 70,
     "metadata": {},
     "output_type": "execute_result"
    }
   ],
   "source": [
    "h(5,6,7)"
   ]
  },
  {
   "cell_type": "code",
   "execution_count": 71,
   "metadata": {},
   "outputs": [
    {
     "data": {
      "text/plain": [
       "k (generic function with 1 method)"
      ]
     },
     "execution_count": 71,
     "metadata": {},
     "output_type": "execute_result"
    }
   ],
   "source": [
    "function k(x,y,z)\n",
    "    log(x+y+z)\n",
    "end"
   ]
  },
  {
   "cell_type": "code",
   "execution_count": 72,
   "metadata": {},
   "outputs": [
    {
     "data": {
      "text/plain": [
       "2.8903717578961645"
      ]
     },
     "execution_count": 72,
     "metadata": {},
     "output_type": "execute_result"
    }
   ],
   "source": [
    "k(5,6,7)"
   ]
  },
  {
   "cell_type": "code",
   "execution_count": 73,
   "metadata": {},
   "outputs": [
    {
     "name": "stdout",
     "output_type": "stream",
     "text": [
      "Логарифм числа s по основанию r\n"
     ]
    },
    {
     "data": {
      "text/plain": [
       "0.33333333333333337"
      ]
     },
     "execution_count": 73,
     "metadata": {},
     "output_type": "execute_result"
    }
   ],
   "source": [
    "println(\"Логарифм числа s по основанию r\")\n",
    "s = 2\n",
    "r = 8\n",
    "log(8,2)"
   ]
  },
  {
   "cell_type": "markdown",
   "metadata": {},
   "source": [
    "## Работа с качественными переменными"
   ]
  },
  {
   "cell_type": "code",
   "execution_count": 74,
   "metadata": {},
   "outputs": [
    {
     "data": {
      "text/plain": [
       "o (generic function with 1 method)"
      ]
     },
     "execution_count": 74,
     "metadata": {},
     "output_type": "execute_result"
    }
   ],
   "source": [
    "# Пусть переменная о - качественная переменная, которая заключает в себе степень ожога человека\n",
    "# Существует 4 степени ожога\n",
    "# Пусть количество вызовов скорой будет 7. Если общая сумма sqrt ожогов превышает 11, то обязательно нужно будет кого-то госпитализировать \n",
    "function o(x,y,z,j,t,l,m)\n",
    "    sqrt(x)+sqrt(y)+sqrt(z)+sqrt(j)+sqrt(t) + sqrt(l) + sqrt(m)\n",
    "end"
   ]
  },
  {
   "cell_type": "code",
   "execution_count": 75,
   "metadata": {},
   "outputs": [
    {
     "data": {
      "text/plain": [
       "3"
      ]
     },
     "execution_count": 75,
     "metadata": {},
     "output_type": "execute_result"
    }
   ],
   "source": [
    "x = rand(1:4)\n",
    "y = rand(1:4)\n",
    "z = rand(1:4)\n",
    "j = rand(1:4)\n",
    "t = rand(1:4)\n",
    "l = rand(1:4)\n",
    "m = rand(1:4)"
   ]
  },
  {
   "cell_type": "code",
   "execution_count": 76,
   "metadata": {},
   "outputs": [
    {
     "data": {
      "text/plain": [
       "12.392304845413262"
      ]
     },
     "execution_count": 76,
     "metadata": {},
     "output_type": "execute_result"
    }
   ],
   "source": [
    "sum = o(x,y,z,j,t,l,m)"
   ]
  },
  {
   "cell_type": "code",
   "execution_count": 77,
   "metadata": {},
   "outputs": [
    {
     "name": "stdout",
     "output_type": "stream",
     "text": [
      "Need hospitalization\n"
     ]
    }
   ],
   "source": [
    "# Если \n",
    "if sum > 11\n",
    "    println(\"Need hospitalization\")\n",
    "else\n",
    "    println(\"Stay home\")\n",
    "end"
   ]
  },
  {
   "cell_type": "code",
   "execution_count": null,
   "metadata": {},
   "outputs": [],
   "source": []
  }
 ],
 "metadata": {
  "kernelspec": {
   "display_name": "Julia 1.5.3",
   "language": "julia",
   "name": "julia-1.5"
  },
  "language_info": {
   "file_extension": ".jl",
   "mimetype": "application/julia",
   "name": "julia",
   "version": "1.5.3"
  }
 },
 "nbformat": 4,
 "nbformat_minor": 4
}
